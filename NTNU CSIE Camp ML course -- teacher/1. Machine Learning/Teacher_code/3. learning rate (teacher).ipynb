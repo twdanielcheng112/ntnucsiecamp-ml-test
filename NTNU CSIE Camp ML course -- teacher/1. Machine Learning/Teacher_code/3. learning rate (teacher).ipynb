{
 "cells": [
  {
   "cell_type": "markdown",
   "metadata": {},
   "source": [
    "> 說明用 # 表示，若發生某些事件才需要用到則用 \"\"\" 表示"
   ]
  },
  {
   "cell_type": "markdown",
   "metadata": {},
   "source": [
    "### **讀入資料**"
   ]
  },
  {
   "cell_type": "markdown",
   "metadata": {},
   "source": [
    "> 可以從第一個實作複製過來"
   ]
  },
  {
   "cell_type": "code",
   "execution_count": 1,
   "metadata": {},
   "outputs": [
    {
     "data": {
      "text/html": [
       "<div>\n",
       "<style scoped>\n",
       "    .dataframe tbody tr th:only-of-type {\n",
       "        vertical-align: middle;\n",
       "    }\n",
       "\n",
       "    .dataframe tbody tr th {\n",
       "        vertical-align: top;\n",
       "    }\n",
       "\n",
       "    .dataframe thead th {\n",
       "        text-align: right;\n",
       "    }\n",
       "</style>\n",
       "<table border=\"1\" class=\"dataframe\">\n",
       "  <thead>\n",
       "    <tr style=\"text-align: right;\">\n",
       "      <th></th>\n",
       "      <th>chinese</th>\n",
       "      <th>science</th>\n",
       "      <th>Unnamed: 2</th>\n",
       "    </tr>\n",
       "  </thead>\n",
       "  <tbody>\n",
       "    <tr>\n",
       "      <th>0</th>\n",
       "      <td>64</td>\n",
       "      <td>93</td>\n",
       "      <td>NaN</td>\n",
       "    </tr>\n",
       "    <tr>\n",
       "      <th>1</th>\n",
       "      <td>78</td>\n",
       "      <td>91</td>\n",
       "      <td>NaN</td>\n",
       "    </tr>\n",
       "    <tr>\n",
       "      <th>2</th>\n",
       "      <td>69</td>\n",
       "      <td>84</td>\n",
       "      <td>NaN</td>\n",
       "    </tr>\n",
       "    <tr>\n",
       "      <th>3</th>\n",
       "      <td>52</td>\n",
       "      <td>65</td>\n",
       "      <td>NaN</td>\n",
       "    </tr>\n",
       "    <tr>\n",
       "      <th>4</th>\n",
       "      <td>45</td>\n",
       "      <td>78</td>\n",
       "      <td>NaN</td>\n",
       "    </tr>\n",
       "    <tr>\n",
       "      <th>5</th>\n",
       "      <td>48</td>\n",
       "      <td>36</td>\n",
       "      <td>NaN</td>\n",
       "    </tr>\n",
       "    <tr>\n",
       "      <th>6</th>\n",
       "      <td>78</td>\n",
       "      <td>77</td>\n",
       "      <td>NaN</td>\n",
       "    </tr>\n",
       "    <tr>\n",
       "      <th>7</th>\n",
       "      <td>75</td>\n",
       "      <td>82</td>\n",
       "      <td>NaN</td>\n",
       "    </tr>\n",
       "    <tr>\n",
       "      <th>8</th>\n",
       "      <td>78</td>\n",
       "      <td>92</td>\n",
       "      <td>NaN</td>\n",
       "    </tr>\n",
       "    <tr>\n",
       "      <th>9</th>\n",
       "      <td>32</td>\n",
       "      <td>78</td>\n",
       "      <td>NaN</td>\n",
       "    </tr>\n",
       "    <tr>\n",
       "      <th>10</th>\n",
       "      <td>10</td>\n",
       "      <td>7</td>\n",
       "      <td>NaN</td>\n",
       "    </tr>\n",
       "    <tr>\n",
       "      <th>11</th>\n",
       "      <td>46</td>\n",
       "      <td>62</td>\n",
       "      <td>NaN</td>\n",
       "    </tr>\n",
       "    <tr>\n",
       "      <th>12</th>\n",
       "      <td>86</td>\n",
       "      <td>98</td>\n",
       "      <td>NaN</td>\n",
       "    </tr>\n",
       "    <tr>\n",
       "      <th>13</th>\n",
       "      <td>13</td>\n",
       "      <td>95</td>\n",
       "      <td>NaN</td>\n",
       "    </tr>\n",
       "    <tr>\n",
       "      <th>14</th>\n",
       "      <td>37</td>\n",
       "      <td>73</td>\n",
       "      <td>NaN</td>\n",
       "    </tr>\n",
       "    <tr>\n",
       "      <th>15</th>\n",
       "      <td>64</td>\n",
       "      <td>90</td>\n",
       "      <td>NaN</td>\n",
       "    </tr>\n",
       "    <tr>\n",
       "      <th>16</th>\n",
       "      <td>48</td>\n",
       "      <td>81</td>\n",
       "      <td>NaN</td>\n",
       "    </tr>\n",
       "    <tr>\n",
       "      <th>17</th>\n",
       "      <td>24</td>\n",
       "      <td>50</td>\n",
       "      <td>NaN</td>\n",
       "    </tr>\n",
       "    <tr>\n",
       "      <th>18</th>\n",
       "      <td>10</td>\n",
       "      <td>25</td>\n",
       "      <td>NaN</td>\n",
       "    </tr>\n",
       "    <tr>\n",
       "      <th>19</th>\n",
       "      <td>37</td>\n",
       "      <td>40</td>\n",
       "      <td>NaN</td>\n",
       "    </tr>\n",
       "    <tr>\n",
       "      <th>20</th>\n",
       "      <td>71</td>\n",
       "      <td>84</td>\n",
       "      <td>NaN</td>\n",
       "    </tr>\n",
       "    <tr>\n",
       "      <th>21</th>\n",
       "      <td>9</td>\n",
       "      <td>79</td>\n",
       "      <td>NaN</td>\n",
       "    </tr>\n",
       "    <tr>\n",
       "      <th>22</th>\n",
       "      <td>97</td>\n",
       "      <td>100</td>\n",
       "      <td>NaN</td>\n",
       "    </tr>\n",
       "    <tr>\n",
       "      <th>23</th>\n",
       "      <td>57</td>\n",
       "      <td>81</td>\n",
       "      <td>NaN</td>\n",
       "    </tr>\n",
       "    <tr>\n",
       "      <th>24</th>\n",
       "      <td>38</td>\n",
       "      <td>62</td>\n",
       "      <td>NaN</td>\n",
       "    </tr>\n",
       "    <tr>\n",
       "      <th>25</th>\n",
       "      <td>24</td>\n",
       "      <td>76</td>\n",
       "      <td>NaN</td>\n",
       "    </tr>\n",
       "    <tr>\n",
       "      <th>26</th>\n",
       "      <td>11</td>\n",
       "      <td>59</td>\n",
       "      <td>NaN</td>\n",
       "    </tr>\n",
       "    <tr>\n",
       "      <th>27</th>\n",
       "      <td>71</td>\n",
       "      <td>95</td>\n",
       "      <td>NaN</td>\n",
       "    </tr>\n",
       "    <tr>\n",
       "      <th>28</th>\n",
       "      <td>57</td>\n",
       "      <td>89</td>\n",
       "      <td>NaN</td>\n",
       "    </tr>\n",
       "    <tr>\n",
       "      <th>29</th>\n",
       "      <td>21</td>\n",
       "      <td>56</td>\n",
       "      <td>NaN</td>\n",
       "    </tr>\n",
       "    <tr>\n",
       "      <th>30</th>\n",
       "      <td>81</td>\n",
       "      <td>91</td>\n",
       "      <td>NaN</td>\n",
       "    </tr>\n",
       "    <tr>\n",
       "      <th>31</th>\n",
       "      <td>80</td>\n",
       "      <td>81</td>\n",
       "      <td>NaN</td>\n",
       "    </tr>\n",
       "    <tr>\n",
       "      <th>32</th>\n",
       "      <td>100</td>\n",
       "      <td>3</td>\n",
       "      <td>NaN</td>\n",
       "    </tr>\n",
       "    <tr>\n",
       "      <th>33</th>\n",
       "      <td>12</td>\n",
       "      <td>90</td>\n",
       "      <td>NaN</td>\n",
       "    </tr>\n",
       "  </tbody>\n",
       "</table>\n",
       "</div>"
      ],
      "text/plain": [
       "    chinese  science  Unnamed: 2\n",
       "0        64       93         NaN\n",
       "1        78       91         NaN\n",
       "2        69       84         NaN\n",
       "3        52       65         NaN\n",
       "4        45       78         NaN\n",
       "5        48       36         NaN\n",
       "6        78       77         NaN\n",
       "7        75       82         NaN\n",
       "8        78       92         NaN\n",
       "9        32       78         NaN\n",
       "10       10        7         NaN\n",
       "11       46       62         NaN\n",
       "12       86       98         NaN\n",
       "13       13       95         NaN\n",
       "14       37       73         NaN\n",
       "15       64       90         NaN\n",
       "16       48       81         NaN\n",
       "17       24       50         NaN\n",
       "18       10       25         NaN\n",
       "19       37       40         NaN\n",
       "20       71       84         NaN\n",
       "21        9       79         NaN\n",
       "22       97      100         NaN\n",
       "23       57       81         NaN\n",
       "24       38       62         NaN\n",
       "25       24       76         NaN\n",
       "26       11       59         NaN\n",
       "27       71       95         NaN\n",
       "28       57       89         NaN\n",
       "29       21       56         NaN\n",
       "30       81       91         NaN\n",
       "31       80       81         NaN\n",
       "32      100        3         NaN\n",
       "33       12       90         NaN"
      ]
     },
     "execution_count": 1,
     "metadata": {},
     "output_type": "execute_result"
    }
   ],
   "source": [
    "import pandas as pd\n",
    "\n",
    "url = \".../chinese_science_score.csv\"\n",
    "data = pd.read_csv(url)\n",
    "\n",
    "\"\"\" 若資料格式最後有一空值，就 drop 掉它\n",
    "data = data.dropna(axis=1)\n",
    "\"\"\"\n",
    "\n",
    "# 顯示資料\n",
    "data"
   ]
  },
  {
   "cell_type": "markdown",
   "metadata": {},
   "source": [
    "### **計算 gradient descent**"
   ]
  },
  {
   "cell_type": "markdown",
   "metadata": {},
   "source": [
    "> 設定 x, y（上一個實作一樣有）"
   ]
  },
  {
   "cell_type": "code",
   "execution_count": 187,
   "metadata": {},
   "outputs": [],
   "source": [
    "x = data['chinese']\n",
    "y = data['science']"
   ]
  },
  {
   "cell_type": "markdown",
   "metadata": {},
   "source": [
    "> 計算 gradient descent"
   ]
  },
  {
   "cell_type": "code",
   "execution_count": 188,
   "metadata": {},
   "outputs": [
    {
     "data": {
      "text/plain": [
       "59262.23529411765"
      ]
     },
     "execution_count": 188,
     "metadata": {},
     "output_type": "execute_result"
    }
   ],
   "source": [
    "a = 10\n",
    "b = 10\n",
    "\n",
    "a_gradient = 2 * x * (a * x + b - y)\n",
    "b_gradient = 2 * (a * x + b - y)\n",
    "\n",
    "# 計算 平均 結果\n",
    "a_gradient = (2 * x * (a * x + b - y)).sum() / len(x)\n",
    "b_gradient = (2 * (a * x + b - y)).sum() / len(x)\n",
    "\n",
    "# 介紹使用 mean()\n",
    "a_gradient = (2 * x * (a * x + b - y)).mean()\n",
    "b_gradient = (2 * (a * x + b - y)).mean()\n",
    "\n",
    "a_gradient"
   ]
  },
  {
   "cell_type": "markdown",
   "metadata": {},
   "source": [
    "> 包成 function 方便計算"
   ]
  },
  {
   "cell_type": "code",
   "execution_count": 189,
   "metadata": {},
   "outputs": [],
   "source": [
    "def compute_gradient(x, y, a, b):\n",
    "    \n",
    "    a_gradient = (2 * x * (a * x + b - y)).mean()\n",
    "    b_gradient = (2 * (a * x + b - y)).mean()\n",
    "\n",
    "    return a_gradient, a_gradient"
   ]
  },
  {
   "cell_type": "markdown",
   "metadata": {},
   "source": [
    "> 測試 compute_gradient()"
   ]
  },
  {
   "cell_type": "code",
   "execution_count": 190,
   "metadata": {},
   "outputs": [
    {
     "data": {
      "text/plain": [
       "(59262.23529411765, 59262.23529411765)"
      ]
     },
     "execution_count": 190,
     "metadata": {},
     "output_type": "execute_result"
    }
   ],
   "source": [
    "compute_gradient(x, y, 10, 10)"
   ]
  },
  {
   "cell_type": "markdown",
   "metadata": {},
   "source": [
    "> 觀察 a, b 的變動"
   ]
  },
  {
   "cell_type": "code",
   "execution_count": 191,
   "metadata": {},
   "outputs": [
    {
     "data": {
      "text/plain": [
       "(0.7717764705882354, 0.7717764705882354)"
      ]
     },
     "execution_count": 191,
     "metadata": {},
     "output_type": "execute_result"
    }
   ],
   "source": [
    "a = 0\n",
    "b = 0\n",
    "a_gradient, b_gradient = compute_gradient(x, y, a, b)\n",
    "\n",
    "learning_rate = 0.0001\n",
    "a = a - a_gradient * learning_rate\n",
    "b = b - b_gradient * learning_rate\n",
    "\n",
    "# 觀察 a, b 的數值\n",
    "a, b"
   ]
  },
  {
   "cell_type": "markdown",
   "metadata": {},
   "source": [
    "### **觀察是否 loss 值有下降**"
   ]
  },
  {
   "cell_type": "markdown",
   "metadata": {},
   "source": [
    "> loss function（上一個實作有程式碼）"
   ]
  },
  {
   "cell_type": "code",
   "execution_count": 192,
   "metadata": {},
   "outputs": [],
   "source": [
    "def compute_loss(x, y, a, b):\n",
    "    y_pred = a*x + b\n",
    "    loss = (y - y_pred)**2\n",
    "    loss = loss.sum() / len(x)\n",
    "\n",
    "    return loss"
   ]
  },
  {
   "cell_type": "markdown",
   "metadata": {},
   "source": [
    "> 觀察 loss 是否下降"
   ]
  },
  {
   "cell_type": "code",
   "execution_count": 193,
   "metadata": {},
   "outputs": [
    {
     "name": "stdout",
     "output_type": "stream",
     "text": [
      "5765.323529411765\n",
      "1723.6007672836267\n"
     ]
    }
   ],
   "source": [
    "a = 0\n",
    "b = 0\n",
    "\n",
    "# 新增這一行\n",
    "print( compute_loss(x, y, a, b) )\n",
    "\n",
    "a_gradient, b_gradient = compute_gradient(x, y, a, b)\n",
    "\n",
    "learning_rate = 0.0001\n",
    "a = a - a_gradient * learning_rate\n",
    "b = b - b_gradient * learning_rate\n",
    "\n",
    "# 新增這一行\n",
    "print( compute_loss(x, y, a, b) )"
   ]
  },
  {
   "cell_type": "markdown",
   "metadata": {},
   "source": [
    "> 上面只有 1 次，現在試試看 10 次"
   ]
  },
  {
   "cell_type": "code",
   "execution_count": 196,
   "metadata": {},
   "outputs": [
    {
     "name": "stdout",
     "output_type": "stream",
     "text": [
      "第   0 次更新: Loss: 3801.20, a: 1.94, b: 9.94, a_gradient: 6489.06, b_gradient: 6489.06\n",
      "第   1 次更新: Loss: 3442.73, a: 1.87, b: 9.87, a_gradient: 6054.42, b_gradient: 6054.42\n",
      "第   2 次更新: Loss: 3130.75, a: 1.82, b: 9.82, a_gradient: 5648.90, b_gradient: 5648.90\n",
      "第   3 次更新: Loss: 2859.24, a: 1.77, b: 9.77, a_gradient: 5270.53, b_gradient: 5270.53\n",
      "第   4 次更新: Loss: 2622.95, a: 1.72, b: 9.72, a_gradient: 4917.51, b_gradient: 4917.51\n",
      "第   5 次更新: Loss: 2417.32, a: 1.67, b: 9.67, a_gradient: 4588.14, b_gradient: 4588.14\n",
      "第   6 次更新: Loss: 2238.38, a: 1.63, b: 9.63, a_gradient: 4280.82, b_gradient: 4280.82\n",
      "第   7 次更新: Loss: 2082.66, a: 1.59, b: 9.59, a_gradient: 3994.09, b_gradient: 3994.09\n",
      "第   8 次更新: Loss: 1947.15, a: 1.55, b: 9.55, a_gradient: 3726.57, b_gradient: 3726.57\n",
      "第   9 次更新: Loss: 1829.24, a: 1.52, b: 9.52, a_gradient: 3476.96, b_gradient: 3476.96\n",
      "第  10 次更新: Loss: 1726.64, a: 1.48, b: 9.48, a_gradient: 3244.08, b_gradient: 3244.08\n",
      "第  11 次更新: Loss: 1637.36, a: 1.45, b: 9.45, a_gradient: 3026.79, b_gradient: 3026.79\n",
      "第  12 次更新: Loss: 1559.69, a: 1.42, b: 9.42, a_gradient: 2824.05, b_gradient: 2824.05\n",
      "第  13 次更新: Loss: 1492.11, a: 1.40, b: 9.40, a_gradient: 2634.90, b_gradient: 2634.90\n",
      "第  14 次更新: Loss: 1433.31, a: 1.37, b: 9.37, a_gradient: 2458.41, b_gradient: 2458.41\n",
      "第  15 次更新: Loss: 1382.16, a: 1.35, b: 9.35, a_gradient: 2293.75, b_gradient: 2293.75\n",
      "第  16 次更新: Loss: 1337.66, a: 1.33, b: 9.33, a_gradient: 2140.11, b_gradient: 2140.11\n",
      "第  17 次更新: Loss: 1298.96, a: 1.31, b: 9.31, a_gradient: 1996.77, b_gradient: 1996.77\n",
      "第  18 次更新: Loss: 1265.29, a: 1.29, b: 9.29, a_gradient: 1863.03, b_gradient: 1863.03\n",
      "第  19 次更新: Loss: 1236.00, a: 1.27, b: 9.27, a_gradient: 1738.24, b_gradient: 1738.24\n"
     ]
    }
   ],
   "source": [
    "a = 2\n",
    "b = 10\n",
    "learning_rate = 0.00001\n",
    "\n",
    "for i in range(20):\n",
    "    a_gradient, b_gradient = compute_gradient(x, y, a, b)\n",
    "\n",
    "    a = a - a_gradient * learning_rate\n",
    "    b = b - b_gradient * learning_rate\n",
    "\n",
    "    loss = compute_loss(x, y, a, b)\n",
    "    # print(f\"第 {i} 次更新: Loss: {loss}, a: {a}, b: {b}\")\n",
    "    # print(f\"第 {i} 次更新: Loss: {loss:.2f}, a: {a:.2f}, b: {b:.2f}\") # 顯示兩位小數\n",
    "    # print(f\"第 {i:3} 次更新: Loss: {loss:.2f}, a: {a:.2f}, b: {b:.2f}\") # 第幾次更新數字，占用 3 格\n",
    "    print(f\"第 {i:3} 次更新: Loss: {loss:.2f}, a: {a:.2f}, b: {b:.2f}, a_gradient: {a_gradient:.2f}, b_gradient: {b_gradient:.2f}\") # 增加斜率"
   ]
  },
  {
   "cell_type": "markdown",
   "metadata": {},
   "source": [
    "> 包成一個 function"
   ]
  },
  {
   "cell_type": "code",
   "execution_count": 183,
   "metadata": {},
   "outputs": [],
   "source": [
    "def gradient_descent(x, y, a, b, learning_rate, loss_function, gradient_function, run_iter, show_iter):\n",
    "    # 把過程中的都記錄下來\n",
    "    loss_hist = []\n",
    "    a_hist = []\n",
    "    b_hist = []\n",
    "    \n",
    "    for i in range(run_iter):\n",
    "        \n",
    "        a_gradient, b_gradient = gradient_function(x, y, a, b)\n",
    "\n",
    "        a = a - a_gradient * learning_rate\n",
    "        b = b - b_gradient * learning_rate\n",
    "\n",
    "        loss = loss_function(x, y, a, b)\n",
    "\n",
    "        loss_hist.append(loss)\n",
    "        a_hist.append(a)\n",
    "        b_hist.append(b)\n",
    "\n",
    "        if i%show_iter == 0:\n",
    "            print(f\"第 {i:3} 次更新: Loss: {loss:.2f}, a: {a:.2f}, b: {b:.2f}, a_gradient: {a_gradient:.2f}, b_gradient: {b_gradient:.2f}\") # 增加斜率\n",
    "    \n",
    "    # 回傳 a, b 最終值、過程中的 a, b, loss\n",
    "    return a, b, a_hist, b_hist, loss_hist"
   ]
  },
  {
   "cell_type": "markdown",
   "metadata": {},
   "source": [
    "> 測試 function"
   ]
  },
  {
   "cell_type": "code",
   "execution_count": 186,
   "metadata": {},
   "outputs": [
    {
     "name": "stdout",
     "output_type": "stream",
     "text": [
      "第   0 次更新: Loss: 14919829.33, a: 66.90, b: 99.49, a_gradient: 662082.24, b_gradient: 10191.59\n",
      "第 5000 次更新: Loss: 846.27, a: -0.28, b: 94.09, a_gradient: -0.25, b_gradient: 16.53\n",
      "第 10000 次更新: Loss: 784.98, a: -0.22, b: 90.18, a_gradient: -0.23, b_gradient: 14.80\n",
      "第 15000 次更新: Loss: 735.87, a: -0.16, b: 86.67, a_gradient: -0.20, b_gradient: 13.25\n",
      "第 20000 次更新: Loss: 696.50, a: -0.11, b: 83.54, a_gradient: -0.18, b_gradient: 11.86\n",
      "第 25000 次更新: Loss: 664.95, a: -0.07, b: 80.73, a_gradient: -0.16, b_gradient: 10.62\n",
      "第 30000 次更新: Loss: 639.67, a: -0.03, b: 78.22, a_gradient: -0.15, b_gradient: 9.50\n",
      "第 35000 次更新: Loss: 619.41, a: 0.00, b: 75.97, a_gradient: -0.13, b_gradient: 8.51\n",
      "第 40000 次更新: Loss: 603.17, a: 0.03, b: 73.96, a_gradient: -0.12, b_gradient: 7.62\n",
      "第 45000 次更新: Loss: 590.15, a: 0.06, b: 72.15, a_gradient: -0.10, b_gradient: 6.82\n"
     ]
    }
   ],
   "source": [
    "a = 100\n",
    "b = 100\n",
    "learning_rate = 0.00005\n",
    "run_iter = 50000\n",
    "show_iter = 5000\n",
    "\n",
    "a_final, b_final, a_hist, b_hist, loss_hist = gradient_descent(x, y, a, b, learning_rate, compute_loss, compute_gradient, run_iter, show_iter)"
   ]
  },
  {
   "cell_type": "markdown",
   "metadata": {},
   "source": [
    "> 查看最終 a 跟 b 的值"
   ]
  },
  {
   "cell_type": "code",
   "execution_count": 185,
   "metadata": {},
   "outputs": [
    {
     "name": "stdout",
     "output_type": "stream",
     "text": [
      "最終 a, b = (0.03363463692051899, 73.95712198635795)\n",
      "最終 a, b = (0.03, 73.96)\n"
     ]
    }
   ],
   "source": [
    "print(f\"最終 a, b = ({a_final}, {b_final})\")\n",
    "# 顯示兩位小數就好\n",
    "print(f\"最終 a, b = ({a_final:.2f}, {b_final:.2f})\")"
   ]
  },
  {
   "cell_type": "markdown",
   "metadata": {},
   "source": [
    "### **畫圖觀察 loss 趨勢**"
   ]
  },
  {
   "cell_type": "code",
   "execution_count": 152,
   "metadata": {},
   "outputs": [
    {
     "data": {
      "image/png": "[encoded data removed]",
      "text/plain": [
       "<Figure size 640x480 with 1 Axes>"
      ]
     },
     "metadata": {},
     "output_type": "display_data"
    }
   ],
   "source": [
    "import matplotlib.pyplot as plt\n",
    "import numpy as np\n",
    "\n",
    "plt.plot(np.arange(0, run_iter), loss_hist)\n",
    "# 有些人可能跟我一樣眼睛不好，所以來觀察前 100 筆（趨勢更明顯）\n",
    "# plt.plot(np.arange(0, 100), loss_all[:100])\n",
    "\n",
    "# 增加資訊\n",
    "plt.title(\"次數 vs loss\")\n",
    "plt.xlabel(\"次數\")\n",
    "plt.ylabel(\"loss\")\n",
    "\n",
    "plt.show()"
   ]
  },
  {
   "cell_type": "markdown",
   "metadata": {},
   "source": [
    "> 中文字體"
   ]
  },
  {
   "cell_type": "code",
   "execution_count": 145,
   "metadata": {},
   "outputs": [],
   "source": [
    "from matplotlib.font_manager import fontManager\n",
    "import matplotlib as mlp\n",
    "fontManager.addfont(\"ChineseFont.ttf\")\n",
    "mlp.rc('font', family = \"ChineseFont\")"
   ]
  },
  {
   "cell_type": "markdown",
   "metadata": {},
   "source": [
    "### **畫圖觀察 3D 的移動軌跡**"
   ]
  },
  {
   "cell_type": "markdown",
   "metadata": {},
   "source": [
    "> 窮舉所有 loss 值"
   ]
  },
  {
   "cell_type": "code",
   "execution_count": 113,
   "metadata": {},
   "outputs": [],
   "source": [
    "import numpy as np\n",
    "\n",
    "a_all = np.arange(-100, 101)\n",
    "b_all = np.arange(-100, 101)\n",
    "loss_all = np.zeros((201, 201))\n",
    "\n",
    "i = 0\n",
    "for a in a_all:\n",
    "    j = 0\n",
    "    for b in b_all:\n",
    "        loss = compute_loss(x, y, a, b)\n",
    "        loss_all[i, j] = loss\n",
    "        j = j+1\n",
    "    i = i+1\n"
   ]
  },
  {
   "cell_type": "markdown",
   "metadata": {},
   "source": [
    "> 把畫 3D 圖的程式碼複製過來"
   ]
  },
  {
   "cell_type": "code",
   "execution_count": 174,
   "metadata": {},
   "outputs": [
    {
     "name": "stdout",
     "output_type": "stream",
     "text": [
      "602.5\n",
      "[100] [172] [0] [72]\n"
     ]
    },
    {
     "data": {
      "image/png": "[encoded data removed]",
      "text/plain": [
       "<Figure size 600x600 with 1 Axes>"
      ]
     },
     "metadata": {},
     "output_type": "display_data"
    }
   ],
   "source": [
    "plt.figure(figsize=(6, 6)) # 圖片大小\n",
    "\n",
    "ax = plt.axes(projection = \"3d\")\n",
    "ax.view_init(20, -100) # 查看視角\n",
    "ax.xaxis.set_pane_color((1, 1, 1)) # 背景顏色\n",
    "ax.yaxis.set_pane_color((1, 1, 1))\n",
    "ax.zaxis.set_pane_color((1, 1, 1))\n",
    "\n",
    "b_grid, a_grid = np.meshgrid(b_all, a_all) # 網格化\n",
    "#############################################   https://wangyeming.github.io/2018/11/12/numpy-meshgrid/\n",
    "\"\"\" ax.plot_surface(aa, bb, loss_all) # 未網格化前 \"\"\"\n",
    "ax.plot_surface(a_grid, b_grid, loss_all, alpha=0.3)\n",
    "\n",
    "# 設定資訊\n",
    "ax.set_title(\"a b 對應的 loss\")\n",
    "ax.set_xlabel(\"a\")\n",
    "ax.set_ylabel(\"b\")\n",
    "ax.set_zlabel(\"loss\")\n",
    "\n",
    "# 尋找 loss 最少的點\n",
    "print(np.min(loss_all))\n",
    "a_index, b_index = np.where(loss_all == np.min(loss_all))\n",
    "print(a_index, b_index, a_all[a_index], b_all[b_index])\n",
    "ax.scatter(a_all[a_index], b_all[b_index], loss_all[a_index, b_index], color=\"red\", s=40)\n",
    "\n",
    "ax.scatter(a_hist[0], b_hist[0], loss_hist[0], color=\"green\", s=40)\n",
    "ax.plot(a_hist, b_hist, loss_hist)\n",
    "\n",
    "plt.show()"
   ]
  },
  {
   "cell_type": "markdown",
   "metadata": {},
   "source": [
    "> 把 gradient_descent function 移下來方便操作"
   ]
  },
  {
   "cell_type": "code",
   "execution_count": 175,
   "metadata": {},
   "outputs": [
    {
     "name": "stdout",
     "output_type": "stream",
     "text": [
      "第   0 次更新: Loss: 3845843.88, a: 33.79, b: 98.98, a_gradient: 662082.24, b_gradient: 10191.59\n",
      "第 1000 次更新: Loss: 890.09, a: -0.32, b: 96.65, a_gradient: -0.27, b_gradient: 17.66\n",
      "第 2000 次更新: Loss: 860.22, a: -0.29, b: 94.92, a_gradient: -0.26, b_gradient: 16.90\n",
      "第 3000 次更新: Loss: 832.89, a: -0.26, b: 93.27, a_gradient: -0.25, b_gradient: 16.17\n",
      "第 4000 次更新: Loss: 807.87, a: -0.24, b: 91.69, a_gradient: -0.24, b_gradient: 15.47\n",
      "第 5000 次更新: Loss: 784.97, a: -0.22, b: 90.18, a_gradient: -0.23, b_gradient: 14.80\n",
      "第 6000 次更新: Loss: 764.01, a: -0.19, b: 88.73, a_gradient: -0.22, b_gradient: 14.16\n",
      "第 7000 次更新: Loss: 744.83, a: -0.17, b: 87.34, a_gradient: -0.21, b_gradient: 13.54\n",
      "第 8000 次更新: Loss: 727.27, a: -0.15, b: 86.02, a_gradient: -0.20, b_gradient: 12.96\n",
      "第 9000 次更新: Loss: 711.20, a: -0.13, b: 84.75, a_gradient: -0.19, b_gradient: 12.40\n",
      "第 10000 次更新: Loss: 696.49, a: -0.11, b: 83.54, a_gradient: -0.18, b_gradient: 11.86\n",
      "第 11000 次更新: Loss: 683.03, a: -0.10, b: 82.38, a_gradient: -0.17, b_gradient: 11.35\n",
      "第 12000 次更新: Loss: 670.71, a: -0.08, b: 81.27, a_gradient: -0.17, b_gradient: 10.85\n",
      "第 13000 次更新: Loss: 659.43, a: -0.06, b: 80.21, a_gradient: -0.16, b_gradient: 10.38\n",
      "第 14000 次更新: Loss: 649.11, a: -0.05, b: 79.19, a_gradient: -0.15, b_gradient: 9.93\n",
      "第 15000 次更新: Loss: 639.66, a: -0.03, b: 78.22, a_gradient: -0.15, b_gradient: 9.50\n",
      "第 16000 次更新: Loss: 631.02, a: -0.02, b: 77.29, a_gradient: -0.14, b_gradient: 9.09\n",
      "第 17000 次更新: Loss: 623.10, a: -0.00, b: 76.40, a_gradient: -0.13, b_gradient: 8.70\n",
      "第 18000 次更新: Loss: 615.86, a: 0.01, b: 75.55, a_gradient: -0.13, b_gradient: 8.32\n",
      "第 19000 次更新: Loss: 609.23, a: 0.02, b: 74.74, a_gradient: -0.12, b_gradient: 7.96\n",
      "第 20000 次更新: Loss: 603.16, a: 0.03, b: 73.96, a_gradient: -0.12, b_gradient: 7.62\n",
      "第 21000 次更新: Loss: 597.61, a: 0.05, b: 73.21, a_gradient: -0.11, b_gradient: 7.29\n",
      "第 22000 次更新: Loss: 592.53, a: 0.06, b: 72.50, a_gradient: -0.11, b_gradient: 6.97\n",
      "第 23000 次更新: Loss: 587.87, a: 0.07, b: 71.82, a_gradient: -0.10, b_gradient: 6.67\n",
      "第 24000 次更新: Loss: 583.62, a: 0.08, b: 71.16, a_gradient: -0.10, b_gradient: 6.38\n",
      "第 25000 次更新: Loss: 579.72, a: 0.09, b: 70.54, a_gradient: -0.09, b_gradient: 6.10\n",
      "第 26000 次更新: Loss: 576.15, a: 0.10, b: 69.94, a_gradient: -0.09, b_gradient: 5.84\n",
      "第 27000 次更新: Loss: 572.89, a: 0.10, b: 69.37, a_gradient: -0.09, b_gradient: 5.59\n",
      "第 28000 次更新: Loss: 569.90, a: 0.11, b: 68.82, a_gradient: -0.08, b_gradient: 5.35\n",
      "第 29000 次更新: Loss: 567.16, a: 0.12, b: 68.30, a_gradient: -0.08, b_gradient: 5.11\n",
      "第 30000 次更新: Loss: 564.66, a: 0.13, b: 67.80, a_gradient: -0.08, b_gradient: 4.89\n",
      "第 31000 次更新: Loss: 562.37, a: 0.14, b: 67.32, a_gradient: -0.07, b_gradient: 4.68\n",
      "第 32000 次更新: Loss: 560.27, a: 0.14, b: 66.87, a_gradient: -0.07, b_gradient: 4.48\n",
      "第 33000 次更新: Loss: 558.35, a: 0.15, b: 66.43, a_gradient: -0.07, b_gradient: 4.28\n",
      "第 34000 次更新: Loss: 556.59, a: 0.16, b: 66.01, a_gradient: -0.06, b_gradient: 4.10\n",
      "第 35000 次更新: Loss: 554.99, a: 0.16, b: 65.61, a_gradient: -0.06, b_gradient: 3.92\n",
      "第 36000 次更新: Loss: 553.52, a: 0.17, b: 65.22, a_gradient: -0.06, b_gradient: 3.75\n",
      "第 37000 次更新: Loss: 552.17, a: 0.17, b: 64.86, a_gradient: -0.06, b_gradient: 3.59\n",
      "第 38000 次更新: Loss: 550.94, a: 0.18, b: 64.51, a_gradient: -0.05, b_gradient: 3.43\n",
      "第 39000 次更新: Loss: 549.81, a: 0.18, b: 64.17, a_gradient: -0.05, b_gradient: 3.28\n"
     ]
    }
   ],
   "source": [
    "a = 100\n",
    "b = 100\n",
    "learning_rate = 0.0001\n",
    "run_iter = 40000\n",
    "show_iter = 1000\n",
    "\n",
    "a_final, b_final, a_hist, b_hist, loss_hist = gradient_descent(x, y, a, b, learning_rate, compute_loss, compute_gradient, run_iter, show_iter)"
   ]
  },
  {
   "cell_type": "code",
   "execution_count": null,
   "metadata": {},
   "outputs": [],
   "source": []
  }
 ],
 "metadata": {
  "kernelspec": {
   "display_name": "base",
   "language": "python",
   "name": "python3"
  },
  "language_info": {
   "codemirror_mode": {
    "name": "ipython",
    "version": 3
   },
   "file_extension": ".py",
   "mimetype": "text/x-python",
   "name": "python",
   "nbconvert_exporter": "python",
   "pygments_lexer": "ipython3",
   "version": "3.11.5"
  }
 },
 "nbformat": 4,
 "nbformat_minor": 2
}
